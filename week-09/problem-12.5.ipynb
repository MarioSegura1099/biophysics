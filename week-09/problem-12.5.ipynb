{
 "cells": [
  {
   "cell_type": "markdown",
   "id": "014e2bd5",
   "metadata": {},
   "source": [
    "# 12.5 MY LITTLE RUNAWAY\n",
    "\n",
    "Use this notebook to store your work for this problem."
   ]
  },
  {
   "cell_type": "markdown",
   "id": "5610b9f6",
   "metadata": {},
   "source": [
    "## Initial Conditions\n",
    "\n",
    "Make at least 3 separate plots:\n",
    "\n",
    "- $x_0 < -1$\n",
    "- $-1 < x_0 < 1$\n",
    "- $x_0 > 1$\n",
    "\n",
    "After you have explored these regimes, comment on the behavior you observed."
   ]
  },
  {
   "cell_type": "code",
   "execution_count": null,
   "id": "25dd5dae",
   "metadata": {},
   "outputs": [],
   "source": []
  },
  {
   "cell_type": "markdown",
   "id": "203491d3",
   "metadata": {},
   "source": [
    "Based on the behavior of the graph we made during class, the following conclusions can be drawn based on the initial conditions. When our initial conditions are less than -1, the graphic would show a stable fixed point for values below -1. In the case of the knee jack, it would be a grahic of the nullclines and stream lines of the knee jack downward locked position. When the initial conditions are between -1 and 1, the graphic would be of the knee jack at an unstable fixed point. Where it could easily lock down or up depending on external conditions. When the initial conditions are greater than 1, the graphic would produce the same behavior of the knee jack at its upward locked position. "
   ]
  }
 ],
 "metadata": {
  "kernelspec": {
   "display_name": "Python 3",
   "language": "python",
   "name": "python3"
  },
  "language_info": {
   "codemirror_mode": {
    "name": "ipython",
    "version": 3
   },
   "file_extension": ".py",
   "mimetype": "text/x-python",
   "name": "python",
   "nbconvert_exporter": "python",
   "pygments_lexer": "ipython3",
   "version": "3.8.8"
  }
 },
 "nbformat": 4,
 "nbformat_minor": 5
}
