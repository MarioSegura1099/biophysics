{
 "cells": [
  {
   "cell_type": "markdown",
   "id": "014e2bd5",
   "metadata": {},
   "source": [
    "# 10.3 RANDOM WALK WITH RANDOM WAITING TIMES\n",
    "\n",
    "Use this notebook to store your work for this problem."
   ]
  },
  {
   "cell_type": "code",
   "execution_count": 1,
   "id": "64f4264a",
   "metadata": {},
   "outputs": [],
   "source": [
    "#*************************************************************\n",
    "# Mario Segura\n",
    "# Problem 10.3\n",
    "\n",
    "#Libraries\n",
    "\n",
    "import numpy as np\n",
    "import pandas as pd\n",
    "import matplotlib.pyplot as plt\n",
    "\n",
    "from matplotlib.animation import FuncAnimation\n",
    "\n",
    "#Random\n",
    "\n",
    "from numpy.random import default_rng\n",
    "rng = default_rng()\n",
    "rand = rng.random\n"
   ]
  },
  {
   "cell_type": "markdown",
   "id": "5610b9f6",
   "metadata": {},
   "source": [
    "## (a)"
   ]
  },
  {
   "cell_type": "code",
   "execution_count": 16,
   "id": "25dd5dae",
   "metadata": {},
   "outputs": [
    {
     "data": {
      "text/plain": [
       "<matplotlib.lines.Line2D at 0x11d19b4a9a0>"
      ]
     },
     "execution_count": 16,
     "metadata": {},
     "output_type": "execute_result"
    },
    {
     "data": {
      "image/png": "[encoded data removed]",
      "text/plain": [
       "<Figure size 432x288 with 1 Axes>"
      ]
     },
     "metadata": {
      "needs_background": "light"
     },
     "output_type": "display_data"
    }
   ],
   "source": [
    "Beta = 1\n",
    "Rand_N = -((1/Beta) * np.log(rand(800))).cumsum()\n",
    "t = Rand_N[(Rand_N > 0) * (Rand_N < 400)]\n",
    "N_Steps = len(t)\n",
    "X_Rand = 2*(rand(N_Steps) < 0.5) - 1\n",
    "x = X_Rand.cumsum()\n",
    "\n",
    "plt.figure()\n",
    "plt.plot(t,x)\n",
    "\n",
    "plt.axhline(y=0, color ='g', linestyle = '--')"
   ]
  },
  {
   "cell_type": "markdown",
   "id": "377db16d",
   "metadata": {},
   "source": [
    "## (b)"
   ]
  },
  {
   "cell_type": "code",
   "execution_count": 17,
   "id": "9f51aa34",
   "metadata": {},
   "outputs": [],
   "source": [
    "Sims = 50\n",
    "Beta = 1\n",
    "End_Ts = [200, 400, 600]\n",
    "\n",
    "Mean = np.zeros(3)\n",
    "Var = np.zeros(3)\n",
    "End_Ps = np.zeros(Sims)\n",
    "\n",
    "a = 0\n",
    "\n",
    "for i in End_Ts:\n",
    "    for n in range(Sims):\n",
    "        Rand_N = -((1/Beta) * np.log(rand(2*i))).cumsum()\n",
    "        t = Rand_N[(Rand_N > 0) * (Rand_N < i)]\n",
    "        N_Steps = len(t)\n",
    "        X_Rand = 2*(rand(N_Steps) < 0.5) - 1\n",
    "        x = X_Rand.cumsum()\n",
    "        End_Ps[n] = x[-1]\n",
    "    Mean[a] = End_Ps.mean()\n",
    "    Var[a] = End_Ps.var()\n",
    "    a = a + 1\n",
    "        \n",
    "        "
   ]
  },
  {
   "cell_type": "markdown",
   "id": "4deb8b4c",
   "metadata": {},
   "source": [
    "## (c)"
   ]
  },
  {
   "cell_type": "code",
   "execution_count": null,
   "id": "bdfbd33b",
   "metadata": {},
   "outputs": [],
   "source": []
  },
  {
   "cell_type": "markdown",
   "id": "88aef6f2",
   "metadata": {},
   "source": [
    "## (d)"
   ]
  },
  {
   "cell_type": "code",
   "execution_count": null,
   "id": "1e29b033",
   "metadata": {},
   "outputs": [],
   "source": [
    "#*******2 Dimensions\n",
    "Beta = 1\n",
    "Rand_N = -((1/Beta) * np.log(rand(800))).cumsum()\n",
    "t = Rand_N[(Rand_N > 0) * (Rand_N < 400)]\n",
    "\n",
    "N_Steps = len(t)\n",
    "X_Rand = 2*(rand(N_Steps) < 0.5) - 1\n",
    "x = X_Rand.cumsum()\n",
    "\n"
   ]
  },
  {
   "cell_type": "markdown",
   "id": "20866a49",
   "metadata": {},
   "source": [
    "## (e)"
   ]
  },
  {
   "cell_type": "code",
   "execution_count": null,
   "id": "ba53306b",
   "metadata": {},
   "outputs": [],
   "source": []
  }
 ],
 "metadata": {
  "kernelspec": {
   "display_name": "Python 3",
   "language": "python",
   "name": "python3"
  },
  "language_info": {
   "codemirror_mode": {
    "name": "ipython",
    "version": 3
   },
   "file_extension": ".py",
   "mimetype": "text/x-python",
   "name": "python",
   "nbconvert_exporter": "python",
   "pygments_lexer": "ipython3",
   "version": "3.8.8"
  }
 },
 "nbformat": 4,
 "nbformat_minor": 5
}
