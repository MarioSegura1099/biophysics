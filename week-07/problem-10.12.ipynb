{
 "cells": [
  {
   "cell_type": "markdown",
   "id": "743bf2c1",
   "metadata": {},
   "source": [
    "# 10.12 DEATH-ONLY PROCESS (EXPERIMENTAL)\n",
    "\n",
    "***This problem is only required for graduate and Honors students.***\n",
    "\n",
    "Use this notebook to store your work for this problem."
   ]
  },
  {
   "cell_type": "code",
   "execution_count": null,
   "id": "cefdc24f",
   "metadata": {},
   "outputs": [],
   "source": [
    "#*************************************************************\n",
    "# Mario Segura\n",
    "# Problem 10.12\n",
    "\n",
    "#Libraries\n",
    "\n",
    "import numpy as np\n",
    "import pandas as pd\n",
    "import matplotlib.pyplot as plt\n",
    "\n",
    "#Random\n",
    "\n",
    "from numpy.random import default_rng\n",
    "rng = default_rng()\n",
    "rand = rng.random"
   ]
  },
  {
   "cell_type": "markdown",
   "id": "6cd8bb45",
   "metadata": {},
   "source": [
    "## (a)"
   ]
  },
  {
   "cell_type": "code",
   "execution_count": 6,
   "id": "cedbdb1f",
   "metadata": {},
   "outputs": [
    {
     "name": "stdout",
     "output_type": "stream",
     "text": [
      "[69. 50. 43. 36. 26. 25. 20. 21. 17. 13.  9. 15. 12. 11. 11.  3.  5.  3.\n",
      "  4.  4.  3.  1.  2.  0.]\n"
     ]
    }
   ],
   "source": [
    "Data = np.load('colquhounData.npy')\n",
    "N_chan = data.sum()\n",
    "Div = np.hsplit(data,2)\n",
    "Bins = Div[0].flatten()\n",
    "Channels = divide[1].flatten()\n",
    "O_Channels = Channels.cumsum()\n",
    "print(Channels)"
   ]
  },
  {
   "cell_type": "markdown",
   "id": "155b214b",
   "metadata": {},
   "source": [
    "## (b)"
   ]
  },
  {
   "cell_type": "code",
   "execution_count": 11,
   "id": "b2fa9d32",
   "metadata": {},
   "outputs": [
    {
     "data": {
      "text/plain": [
       "Text(0.5, 1.0, 'DEATH')"
      ]
     },
     "execution_count": 11,
     "metadata": {},
     "output_type": "execute_result"
    },
    {
     "data": {
      "image/png": "[encoded data removed]",
      "text/plain": [
       "<Figure size 432x288 with 1 Axes>"
      ]
     },
     "metadata": {
      "needs_background": "light"
     },
     "output_type": "display_data"
    }
   ],
   "source": [
    "Beta = 150\n",
    "Draws = 300\n",
    "P = np.random.exponential(Beta, Draws)\n",
    "P.sort()\n",
    "plt.plot(P)\n",
    "plt.title('DEATH')"
   ]
  },
  {
   "cell_type": "code",
   "execution_count": null,
   "id": "d5b93ddd",
   "metadata": {},
   "outputs": [],
   "source": []
  },
  {
   "cell_type": "markdown",
   "id": "15efa967",
   "metadata": {},
   "source": [
    "## (c)"
   ]
  },
  {
   "cell_type": "code",
   "execution_count": null,
   "id": "76231ec1",
   "metadata": {},
   "outputs": [],
   "source": []
  }
 ],
 "metadata": {
  "kernelspec": {
   "display_name": "Python 3",
   "language": "python",
   "name": "python3"
  },
  "language_info": {
   "codemirror_mode": {
    "name": "ipython",
    "version": 3
   },
   "file_extension": ".py",
   "mimetype": "text/x-python",
   "name": "python",
   "nbconvert_exporter": "python",
   "pygments_lexer": "ipython3",
   "version": "3.8.8"
  }
 },
 "nbformat": 4,
 "nbformat_minor": 5
}
