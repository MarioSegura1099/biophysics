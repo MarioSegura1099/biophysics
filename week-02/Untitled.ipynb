{
 "cells": [
  {
   "cell_type": "code",
   "execution_count": 4,
   "id": "690a012e-c856-449d-9b85-bbc5bb50d223",
   "metadata": {},
   "outputs": [
    {
     "data": {
      "text/plain": [
       "array([-1])"
      ]
     },
     "execution_count": 4,
     "metadata": {},
     "output_type": "execute_result"
    }
   ],
   "source": [
    "import numpy as np\n",
    "import matplotlib.pyplot as plt\n",
    "\n",
    "# arange requires start, end, step\n",
    "tMin = -1\n",
    "tMax = +1\n",
    "dt = 201\n",
    "t = np.arange(-1, 1, 201)\n",
    "t"
   ]
  },
  {
   "cell_type": "code",
   "execution_count": 5,
   "id": "2342b3c9-063c-4e33-bd33-378d8e85f389",
   "metadata": {},
   "outputs": [
    {
     "data": {
      "text/plain": [
       "array([-1.  , -0.99, -0.98, -0.97, -0.96, -0.95, -0.94, -0.93, -0.92,\n",
       "       -0.91, -0.9 , -0.89, -0.88, -0.87, -0.86, -0.85, -0.84, -0.83,\n",
       "       -0.82, -0.81, -0.8 , -0.79, -0.78, -0.77, -0.76, -0.75, -0.74,\n",
       "       -0.73, -0.72, -0.71, -0.7 , -0.69, -0.68, -0.67, -0.66, -0.65,\n",
       "       -0.64, -0.63, -0.62, -0.61, -0.6 , -0.59, -0.58, -0.57, -0.56,\n",
       "       -0.55, -0.54, -0.53, -0.52, -0.51, -0.5 , -0.49, -0.48, -0.47,\n",
       "       -0.46, -0.45, -0.44, -0.43, -0.42, -0.41, -0.4 , -0.39, -0.38,\n",
       "       -0.37, -0.36, -0.35, -0.34, -0.33, -0.32, -0.31, -0.3 , -0.29,\n",
       "       -0.28, -0.27, -0.26, -0.25, -0.24, -0.23, -0.22, -0.21, -0.2 ,\n",
       "       -0.19, -0.18, -0.17, -0.16, -0.15, -0.14, -0.13, -0.12, -0.11,\n",
       "       -0.1 , -0.09, -0.08, -0.07, -0.06, -0.05, -0.04, -0.03, -0.02,\n",
       "       -0.01,  0.  ,  0.01,  0.02,  0.03,  0.04,  0.05,  0.06,  0.07,\n",
       "        0.08,  0.09,  0.1 ,  0.11,  0.12,  0.13,  0.14,  0.15,  0.16,\n",
       "        0.17,  0.18,  0.19,  0.2 ,  0.21,  0.22,  0.23,  0.24,  0.25,\n",
       "        0.26,  0.27,  0.28,  0.29,  0.3 ,  0.31,  0.32,  0.33,  0.34,\n",
       "        0.35,  0.36,  0.37,  0.38,  0.39,  0.4 ,  0.41,  0.42,  0.43,\n",
       "        0.44,  0.45,  0.46,  0.47,  0.48,  0.49,  0.5 ,  0.51,  0.52,\n",
       "        0.53,  0.54,  0.55,  0.56,  0.57,  0.58,  0.59,  0.6 ,  0.61,\n",
       "        0.62,  0.63,  0.64,  0.65,  0.66,  0.67,  0.68,  0.69,  0.7 ,\n",
       "        0.71,  0.72,  0.73,  0.74,  0.75,  0.76,  0.77,  0.78,  0.79,\n",
       "        0.8 ,  0.81,  0.82,  0.83,  0.84,  0.85,  0.86,  0.87,  0.88,\n",
       "        0.89,  0.9 ,  0.91,  0.92,  0.93,  0.94,  0.95,  0.96,  0.97,\n",
       "        0.98,  0.99,  1.  ])"
      ]
     },
     "execution_count": 5,
     "metadata": {},
     "output_type": "execute_result"
    }
   ],
   "source": [
    "x = np.linspace(-1, 1, 201)\n",
    "x"
   ]
  },
  {
   "cell_type": "code",
   "execution_count": 6,
   "id": "2961a6cc-05fd-4876-8957-1dd2983c2eec",
   "metadata": {},
   "outputs": [
    {
     "name": "stdout",
     "output_type": "stream",
     "text": [
      "(201,) (1,)\n"
     ]
    }
   ],
   "source": [
    "print (x.shape, t.shape)"
   ]
  },
  {
   "cell_type": "code",
   "execution_count": 7,
   "id": "b4076efb-2c86-4194-9cd0-0d2b8b229c3b",
   "metadata": {},
   "outputs": [
    {
     "data": {
      "text/plain": [
       "array([ True, False, False, False, False, False, False, False, False,\n",
       "       False, False, False, False, False, False, False, False, False,\n",
       "       False, False, False, False, False, False, False, False, False,\n",
       "       False, False, False, False, False, False, False, False, False,\n",
       "       False, False, False, False, False, False, False, False, False,\n",
       "       False, False, False, False, False, False, False, False, False,\n",
       "       False, False, False, False, False, False, False, False, False,\n",
       "       False, False, False, False, False, False, False, False, False,\n",
       "       False, False, False, False, False, False, False, False, False,\n",
       "       False, False, False, False, False, False, False, False, False,\n",
       "       False, False, False, False, False, False, False, False, False,\n",
       "       False, False, False, False, False, False, False, False, False,\n",
       "       False, False, False, False, False, False, False, False, False,\n",
       "       False, False, False, False, False, False, False, False, False,\n",
       "       False, False, False, False, False, False, False, False, False,\n",
       "       False, False, False, False, False, False, False, False, False,\n",
       "       False, False, False, False, False, False, False, False, False,\n",
       "       False, False, False, False, False, False, False, False, False,\n",
       "       False, False, False, False, False, False, False, False, False,\n",
       "       False, False, False, False, False, False, False, False, False,\n",
       "       False, False, False, False, False, False, False, False, False,\n",
       "       False, False, False, False, False, False, False, False, False,\n",
       "       False, False, False])"
      ]
     },
     "execution_count": 7,
     "metadata": {},
     "output_type": "execute_result"
    }
   ],
   "source": [
    "x == t"
   ]
  },
  {
   "cell_type": "code",
   "execution_count": 8,
   "id": "2f4905d6-0337-47c5-880c-41eae82e3642",
   "metadata": {},
   "outputs": [
    {
     "name": "stdout",
     "output_type": "stream",
     "text": [
      "0 True\n"
     ]
    },
    {
     "ename": "IndexError",
     "evalue": "index 1 is out of bounds for axis 0 with size 1",
     "output_type": "error",
     "traceback": [
      "\u001b[1;31m---------------------------------------------------------------------------\u001b[0m",
      "\u001b[1;31mIndexError\u001b[0m                                Traceback (most recent call last)",
      "\u001b[1;32m<ipython-input-8-031acfc7aa60>\u001b[0m in \u001b[0;36m<module>\u001b[1;34m\u001b[0m\n\u001b[0;32m      1\u001b[0m \u001b[1;32mfor\u001b[0m \u001b[0mi\u001b[0m \u001b[1;32min\u001b[0m \u001b[0mrange\u001b[0m\u001b[1;33m(\u001b[0m\u001b[1;36m201\u001b[0m\u001b[1;33m)\u001b[0m\u001b[1;33m:\u001b[0m\u001b[1;33m\u001b[0m\u001b[1;33m\u001b[0m\u001b[0m\n\u001b[1;32m----> 2\u001b[1;33m     \u001b[0mprint\u001b[0m\u001b[1;33m(\u001b[0m\u001b[0mi\u001b[0m\u001b[1;33m,\u001b[0m \u001b[0mx\u001b[0m\u001b[1;33m[\u001b[0m\u001b[0mi\u001b[0m\u001b[1;33m]\u001b[0m\u001b[1;33m==\u001b[0m\u001b[0mt\u001b[0m\u001b[1;33m[\u001b[0m\u001b[0mi\u001b[0m\u001b[1;33m]\u001b[0m\u001b[1;33m)\u001b[0m\u001b[1;33m\u001b[0m\u001b[1;33m\u001b[0m\u001b[0m\n\u001b[0m",
      "\u001b[1;31mIndexError\u001b[0m: index 1 is out of bounds for axis 0 with size 1"
     ]
    }
   ],
   "source": [
    "for i in range(201):\n",
    "    print(i, x[i]==t[i])"
   ]
  },
  {
   "cell_type": "code",
   "execution_count": 9,
   "id": "2e78d15d-c742-4356-adfb-af1403483125",
   "metadata": {},
   "outputs": [
    {
     "data": {
      "text/plain": [
       "1.0"
      ]
     },
     "execution_count": 9,
     "metadata": {},
     "output_type": "execute_result"
    }
   ],
   "source": [
    "x[-1]"
   ]
  },
  {
   "cell_type": "code",
   "execution_count": 10,
   "id": "e3eeb9ab-f6b6-4bc2-96b9-273cc5ed4cb8",
   "metadata": {},
   "outputs": [
    {
     "data": {
      "text/plain": [
       "array([ 0.      , -0.019701, -0.038808, -0.057327, -0.075264, -0.092625,\n",
       "       -0.109416, -0.125643, -0.141312, -0.156429, -0.171   , -0.185031,\n",
       "       -0.198528, -0.211497, -0.223944, -0.235875, -0.247296, -0.258213,\n",
       "       -0.268632, -0.278559, -0.288   , -0.296961, -0.305448, -0.313467,\n",
       "       -0.321024, -0.328125, -0.334776, -0.340983, -0.346752, -0.352089,\n",
       "       -0.357   , -0.361491, -0.365568, -0.369237, -0.372504, -0.375375,\n",
       "       -0.377856, -0.379953, -0.381672, -0.383019, -0.384   , -0.384621,\n",
       "       -0.384888, -0.384807, -0.384384, -0.383625, -0.382536, -0.381123,\n",
       "       -0.379392, -0.377349, -0.375   , -0.372351, -0.369408, -0.366177,\n",
       "       -0.362664, -0.358875, -0.354816, -0.350493, -0.345912, -0.341079,\n",
       "       -0.336   , -0.330681, -0.325128, -0.319347, -0.313344, -0.307125,\n",
       "       -0.300696, -0.294063, -0.287232, -0.280209, -0.273   , -0.265611,\n",
       "       -0.258048, -0.250317, -0.242424, -0.234375, -0.226176, -0.217833,\n",
       "       -0.209352, -0.200739, -0.192   , -0.183141, -0.174168, -0.165087,\n",
       "       -0.155904, -0.146625, -0.137256, -0.127803, -0.118272, -0.108669,\n",
       "       -0.099   , -0.089271, -0.079488, -0.069657, -0.059784, -0.049875,\n",
       "       -0.039936, -0.029973, -0.019992, -0.009999,  0.      ,  0.009999,\n",
       "        0.019992,  0.029973,  0.039936,  0.049875,  0.059784,  0.069657,\n",
       "        0.079488,  0.089271,  0.099   ,  0.108669,  0.118272,  0.127803,\n",
       "        0.137256,  0.146625,  0.155904,  0.165087,  0.174168,  0.183141,\n",
       "        0.192   ,  0.200739,  0.209352,  0.217833,  0.226176,  0.234375,\n",
       "        0.242424,  0.250317,  0.258048,  0.265611,  0.273   ,  0.280209,\n",
       "        0.287232,  0.294063,  0.300696,  0.307125,  0.313344,  0.319347,\n",
       "        0.325128,  0.330681,  0.336   ,  0.341079,  0.345912,  0.350493,\n",
       "        0.354816,  0.358875,  0.362664,  0.366177,  0.369408,  0.372351,\n",
       "        0.375   ,  0.377349,  0.379392,  0.381123,  0.382536,  0.383625,\n",
       "        0.384384,  0.384807,  0.384888,  0.384621,  0.384   ,  0.383019,\n",
       "        0.381672,  0.379953,  0.377856,  0.375375,  0.372504,  0.369237,\n",
       "        0.365568,  0.361491,  0.357   ,  0.352089,  0.346752,  0.340983,\n",
       "        0.334776,  0.328125,  0.321024,  0.313467,  0.305448,  0.296961,\n",
       "        0.288   ,  0.278559,  0.268632,  0.258213,  0.247296,  0.235875,\n",
       "        0.223944,  0.211497,  0.198528,  0.185031,  0.171   ,  0.156429,\n",
       "        0.141312,  0.125643,  0.109416,  0.092625,  0.075264,  0.057327,\n",
       "        0.038808,  0.019701,  0.      ])"
      ]
     },
     "execution_count": 10,
     "metadata": {},
     "output_type": "execute_result"
    }
   ],
   "source": [
    "y = np.zeros(201)\n",
    "z = np.zeros(201)\n",
    "\n",
    "#fill y using a for loop\n",
    "for i in range(201):\n",
    "    y[i]= x[i]-x[i]**3\n",
    "    \n",
    "# fill z using vectorized math\n",
    "#z = t - t**3\n",
    "\n",
    "y"
   ]
  },
  {
   "cell_type": "code",
   "execution_count": 8,
   "id": "8fd9c6b8-304b-4783-b07a-6e9a9b20abb9",
   "metadata": {},
   "outputs": [
    {
     "data": {
      "text/plain": [
       "<matplotlib.legend.Legend at 0x2d24ae5cfa0>"
      ]
     },
     "execution_count": 8,
     "metadata": {},
     "output_type": "execute_result"
    },
    {
     "data": {
      "image/png": "[encoded data removed]",
      "text/plain": [
       "<Figure size 432x288 with 1 Axes>"
      ]
     },
     "metadata": {
      "needs_background": "light"
     },
     "output_type": "display_data"
    }
   ],
   "source": [
    "plt.plot(x,y, 'r-', lw=2, label='for loop')\n",
    "plt.plot(t,z, 'b--', lw=2, label='array math')\n",
    "plt.legend()\n"
   ]
  },
  {
   "cell_type": "code",
   "execution_count": 9,
   "id": "4b234738-a58f-4488-a74e-8587cfaa2904",
   "metadata": {},
   "outputs": [],
   "source": [
    "%matplotlib notebook"
   ]
  },
  {
   "cell_type": "code",
   "execution_count": 13,
   "id": "71033bc2-01f0-4cf9-b7ad-b78575864583",
   "metadata": {},
   "outputs": [],
   "source": [
    "p = np.zeros((6000,1))"
   ]
  },
  {
   "cell_type": "code",
   "execution_count": 14,
   "id": "06102142",
   "metadata": {},
   "outputs": [
    {
     "data": {
      "text/plain": [
       "(array([   0.,    0.,    0.,    0.,    0., 6000.,    0.,    0.,    0.,\n",
       "           0.]),\n",
       " array([-0.5, -0.4, -0.3, -0.2, -0.1,  0. ,  0.1,  0.2,  0.3,  0.4,  0.5]),\n",
       " <BarContainer object of 10 artists>)"
      ]
     },
     "execution_count": 14,
     "metadata": {},
     "output_type": "execute_result"
    },
    {
     "data": {
      "image/png": "[encoded data removed]",
      "text/plain": [
       "<Figure size 432x288 with 1 Axes>"
      ]
     },
     "metadata": {
      "needs_background": "light"
     },
     "output_type": "display_data"
    }
   ],
   "source": [
    "plt.hist(p)"
   ]
  },
  {
   "cell_type": "code",
   "execution_count": null,
   "id": "4805b340",
   "metadata": {},
   "outputs": [],
   "source": []
  }
 ],
 "metadata": {
  "kernelspec": {
   "display_name": "Python 3",
   "language": "python",
   "name": "python3"
  },
  "language_info": {
   "codemirror_mode": {
    "name": "ipython",
    "version": 3
   },
   "file_extension": ".py",
   "mimetype": "text/x-python",
   "name": "python",
   "nbconvert_exporter": "python",
   "pygments_lexer": "ipython3",
   "version": "3.8.8"
  }
 },
 "nbformat": 4,
 "nbformat_minor": 5
}
