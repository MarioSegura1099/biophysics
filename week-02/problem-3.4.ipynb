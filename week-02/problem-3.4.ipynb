{
 "cells": [
  {
   "cell_type": "markdown",
   "id": "5412ca32",
   "metadata": {},
   "source": [
    "# Problem 3.4\n",
    "\n",
    "This problem explores the \"Gambler's Fallacy\" --- the idea that after a string of losses, you are \"due\" for a win.\n",
    "\n",
    "We will represent __heads__ by $+1$ and __tails__ by $-1$.  The variable $X$ is the sum of ten such flips of a coin: the number of heads minus the number of tails."
   ]
  },
  {
   "cell_type": "code",
   "execution_count": 13,
   "id": "8248ee95",
   "metadata": {},
   "outputs": [],
   "source": [
    "# Standard setup\n",
    "import numpy as np\n",
    "import matplotlib.pyplot as plt\n",
    "\n",
    "# Get a random number generator.\n",
    "from numpy.random import default_rng\n",
    "rng = default_rng()\n",
    "rand = rng.random"
   ]
  },
  {
   "cell_type": "markdown",
   "id": "9efb4a03",
   "metadata": {},
   "source": [
    "Verify that the following code generates a sequence of 10 flips, as described in the problem.  Briefly explain how it works.\n",
    "\n",
    "-----"
   ]
  },
  {
   "cell_type": "code",
   "execution_count": 26,
   "id": "0bfd145a",
   "metadata": {},
   "outputs": [
    {
     "name": "stdout",
     "output_type": "stream",
     "text": [
      "Coin flips:  [ 1  1  1  1  1 -1 -1 -1  1  1]\n",
      "Sum: X= 4\n",
      "[1 1 1 1 1]\n",
      "5\n",
      "The sum of the first 5 elements was 5!\n"
     ]
    }
   ],
   "source": [
    "flips = 2*(rand(10) < 0.5) - 1\n",
    "X = flips.sum()\n",
    "\n",
    "print(\"Coin flips: \", flips)\n",
    "print(\"Sum: X=\", X)\n",
    "\n",
    "print(flips[:5])\n",
    "print(sum(flips[0:5:1]))\n",
    "\n",
    "if sum(flips[:5])==5:\n",
    "    print(\"The sum of the first 5 elements was 5!\")\n",
    "\n"
   ]
  },
  {
   "cell_type": "markdown",
   "id": "a06734d6",
   "metadata": {},
   "source": [
    "Rand() generates ten random values between 0 and 1, and then when given the condition < 0.5, python checks if it is less or greater than 0.5. If greater it is false, and if less than it is true. Those boolean values are then converted to one or zero, respectively. The value is multiplied by 2, resulting in either 2 or 0, and then 1 is subtracted. This gives us either heads(+1), or tails(-1)."
   ]
  },
  {
   "cell_type": "markdown",
   "id": "034186de",
   "metadata": {},
   "source": [
    "------\n",
    "\n",
    "## (a)\n",
    "\n",
    "Fill in the necessary Python code below."
   ]
  },
  {
   "cell_type": "code",
   "execution_count": 153,
   "id": "62ca501f",
   "metadata": {},
   "outputs": [
    {
     "name": "stdout",
     "output_type": "stream",
     "text": [
      "There were 253 trials that started with 5 heads.\n",
      "The average of X for these trials was <X>= 4.9881.\n"
     ]
    }
   ],
   "source": [
    "# Define the problem.\n",
    "Ntrials = 8000\n",
    "Nflips = 10\n",
    "Nstart = 5\n",
    "\n",
    "# Create an array to store the data we want.\n",
    "data = np.zeros(Ntrials)\n",
    "count = 0\n",
    "\n",
    "# Generate Ntrials sequences of Nflips coin flips, and sum.\n",
    "for n in range(Ntrials):\n",
    "    flips = 2*(rand(Nflips) < 0.5) - 1\n",
    "    X = flips.sum()\n",
    "    \n",
    "    # Replace \"if True:\" with a conditional statement that will do the following.\n",
    "    #    IF the first Nstart flips are heads, store X in \"data\" and increment \"count\".\n",
    "    #    OTHERWISE, do nothing and continue to the next trial.\n",
    "    if sum(flips[:5])==5:\n",
    "        data[count] = X\n",
    "        count += 1\n",
    "\n",
    "# Now use the data set to answer the question.\n",
    "if count == 0:\n",
    "    print(\"No trials started with {} heads.\".format(Nstart))\n",
    "else:\n",
    "    avgX = data[:count].sum() / count\n",
    "    print (\"There were {} trials that started with {} heads.\".format(count,Nstart))\n",
    "    print(\"The average of X for these trials was <X>= {:.4f}.\".format(avgX))\n"
   ]
  },
  {
   "cell_type": "markdown",
   "id": "a568067f",
   "metadata": {},
   "source": [
    "Run your code several times.  What patterns do you observe?\n",
    "\n",
    "-----"
   ]
  },
  {
   "cell_type": "markdown",
   "id": "c021f245",
   "metadata": {},
   "source": [
    "After running the code several times, there are two patterns that arise. The first is avgX seems to lie between 4 and 6, and the second is the number of trials that begin with \"5 heads\" is roughly 1/32nd of the total trials."
   ]
  },
  {
   "cell_type": "markdown",
   "id": "d0a59d2d",
   "metadata": {},
   "source": [
    "-----\n",
    "\n",
    "## (b)\n",
    "\n",
    "Repeat for `Ntrials = 2000` and `Ntrials = 8000`.\n",
    "\n",
    "> Does the answer seem to be converging to zero, as predicted in the quoted text above? Whatever your answer, give some explanation for why the answer you found should have been expected.\n",
    "\n",
    "-----"
   ]
  },
  {
   "cell_type": "markdown",
   "id": "39fe4cef",
   "metadata": {},
   "source": [
    "As the number of trials increases the average should get closer to zero; this is what is what most people would expect. However, based on the results for avgX, the pattern that we actually find is as Ntrials increases, the standard deviation from 5 decreases. As Ntrials continues to increase, while all other factors remain constant, avgx get very close to 5 because of our paramters Nflips:10 and Nstarts:5."
   ]
  },
  {
   "cell_type": "markdown",
   "id": "86ce2eec",
   "metadata": {},
   "source": [
    "-----\n",
    "\n",
    "## (c)\n",
    "\n",
    "Explore regression to the mean, as described in the problem text."
   ]
  },
  {
   "cell_type": "code",
   "execution_count": 166,
   "id": "aa170fae",
   "metadata": {},
   "outputs": [
    {
     "name": "stdout",
     "output_type": "stream",
     "text": [
      "n=  10\n",
      "The number of flips was 10\n",
      "There were 1588 trials that started with 5 heads.\n",
      "The average of X for these trials was <X>= 4.9950.\n",
      "n=  100\n",
      "The number of flips was 100\n",
      "There were 1611 trials that started with 5 heads.\n",
      "The average of X for these trials was <X>= 4.4879.\n",
      "n=  500\n",
      "The number of flips was 500\n",
      "There were 1479 trials that started with 5 heads.\n",
      "The average of X for these trials was <X>= 4.9750.\n",
      "n=  2500\n",
      "The number of flips was 2500\n",
      "There were 1562 trials that started with 5 heads.\n",
      "The average of X for these trials was <X>= 6.1946.\n"
     ]
    }
   ],
   "source": [
    "# Standard setup\n",
    "import numpy as np\n",
    "import matplotlib.pyplot as plt\n",
    "\n",
    "# Create a random number generator\n",
    "from numpy.random import default_rng\n",
    "rng = default_rng()\n",
    "\n",
    "# Draw from the Uniform Distribution\n",
    "rand = rng.random\n",
    "# Define the problem.\n",
    "Ntrials = 50000\n",
    "Nvalues = [10,100,500,2500]\n",
    "Nflips = 10\n",
    "Nstart = 5\n",
    "\n",
    "for n in Nvalues:\n",
    "    # Create an array to store the data we want.\n",
    "    data = np.zeros(Ntrials)\n",
    "    count = 0\n",
    "    print('n= ',n)\n",
    "    Nflips = n\n",
    "\n",
    "    # Generate Ntrials sequences of Nflips coin flips, and sum.\n",
    "    for n in range(Ntrials):\n",
    "        flips = 2*(rand(Nflips) < 0.5) - 1\n",
    "        X = flips.sum()\n",
    "    \n",
    "        # Replace \"if True:\" with a conditional statement that will do the following.\n",
    "        #    IF the first Nstart flips are heads, store X in \"data\" and increment \"count\".\n",
    "        #    OTHERWISE, do nothing and continue to the next trial.\n",
    "        if sum(flips[:5])==5:\n",
    "            data[count] = X\n",
    "            count += 1\n",
    "\n",
    "    # Now use the data set to answer the question.\n",
    "    if count == 0:\n",
    "        print(\"No trials started with {} heads.\".format(Nstart))\n",
    "    else:\n",
    "        avgX = data[:count].sum() / count\n",
    "        print(\"The number of flips was\", Nflips)\n",
    "        print (\"There were {} trials that started with {} heads.\".format(count,Nstart))\n",
    "        print(\"The average of X for these trials was <X>= {:.4f}.\".format(avgX))\n",
    "        \n",
    "    \n",
    "   "
   ]
  },
  {
   "cell_type": "markdown",
   "id": "2d3b3ac6",
   "metadata": {},
   "source": [
    "Comment on your observations.\n",
    "\n",
    "-----"
   ]
  },
  {
   "cell_type": "markdown",
   "id": "4a59cb3c",
   "metadata": {},
   "source": [
    "As the number of number of flips increases, the standard deviatoin from 5 increases. This could be due to the relationship that the #flips has on the system. The number of flips dictates how many times the first for loop will be executed, and the more it is executed, the larger the deviation. "
   ]
  },
  {
   "cell_type": "markdown",
   "id": "ae008467",
   "metadata": {},
   "source": [
    "-----\n",
    "\n",
    "## (d)\n",
    "\n",
    "Evaluate the ___spread___ of $X$ for large numbers of trials, as described in the text."
   ]
  },
  {
   "cell_type": "code",
   "execution_count": 192,
   "id": "bfbc55ba",
   "metadata": {},
   "outputs": [
    {
     "name": "stdout",
     "output_type": "stream",
     "text": [
      "x=0.4982 +/- 0.288572\n"
     ]
    }
   ],
   "source": [
    "#The standard deviation\n",
    "\n",
    "X = rand(10000)\n",
    "print(\"x={:.4f} +/- {:4f}\".format(X.mean(),X.std()))"
   ]
  },
  {
   "cell_type": "markdown",
   "id": "365cdafe",
   "metadata": {},
   "source": [
    "Comment on your observations.\n",
    "\n",
    "-----"
   ]
  },
  {
   "cell_type": "markdown",
   "id": "735adef2",
   "metadata": {},
   "source": [
    "Following the law of large numbers, we find that as the number of trials gets larger, the standard deviation decreases. The opposite behavior exists when the number of flips increaes, as this increases the number of variance, thus the increase of the standard deviation."
   ]
  },
  {
   "cell_type": "markdown",
   "id": "a87f68ee",
   "metadata": {},
   "source": [
    "_____\n",
    "\n",
    "## (e)\n",
    "\n",
    "Discuss which proposition better describes your findings.\n",
    "\n",
    "> If the first N flips are heads, the next series flips will be more than half tails, in order to pull X closer to zero, because X ‘wants’ to be zero on average.\n",
    "\n",
    "... or ...\n",
    "\n",
    "> The effect of unusual past behavior doesn’t disappear; it just gets diluted as time goes on.\n",
    "\n",
    "-----"
   ]
  },
  {
   "cell_type": "markdown",
   "id": "b6261c64",
   "metadata": {},
   "source": [
    "The latter of the two best describes my findings. When we look at the system with a small number of flips, we find that avgX is the closest to 5, with the smallest deviation. This is due to the law of large number, which proves as the number of trials increaes, the smaller the deviation becomes. "
   ]
  },
  {
   "cell_type": "code",
   "execution_count": null,
   "id": "15977e65",
   "metadata": {},
   "outputs": [],
   "source": []
  }
 ],
 "metadata": {
  "kernelspec": {
   "display_name": "Python 3",
   "language": "python",
   "name": "python3"
  },
  "language_info": {
   "codemirror_mode": {
    "name": "ipython",
    "version": 3
   },
   "file_extension": ".py",
   "mimetype": "text/x-python",
   "name": "python",
   "nbconvert_exporter": "python",
   "pygments_lexer": "ipython3",
   "version": "3.8.8"
  }
 },
 "nbformat": 4,
 "nbformat_minor": 5
}
