{
 "cells": [
  {
   "cell_type": "markdown",
   "id": "bde30066",
   "metadata": {},
   "source": [
    "# Problem 5.17\n",
    "\n",
    "___This problem is only required for 507 and Honors students.  It will be counted as extra credit for all others.___\n",
    "\n",
    "Use this notebook to present your work on the problem.  If you write scripts, store them in this folder and run them within this notebook to produce the requested histograms and graphs."
   ]
  },
  {
   "cell_type": "code",
   "execution_count": 62,
   "id": "5b36de38",
   "metadata": {},
   "outputs": [],
   "source": [
    "#*************************************************************\n",
    "# Mario Segura\n",
    "# \"Problem 5.17\"\n",
    "\n",
    "#Libraries\n",
    "\n",
    "import numpy as np\n",
    "import pandas as pd\n",
    "import matplotlib.pyplot as plt\n",
    "import math\n",
    "\n",
    "import scipy.special as sc\n",
    "from scipy.integrate import quad"
   ]
  },
  {
   "cell_type": "markdown",
   "id": "b7f408b8",
   "metadata": {},
   "source": [
    "## (a) Cauchy distribution"
   ]
  },
  {
   "cell_type": "code",
   "execution_count": 63,
   "id": "13f99fc3",
   "metadata": {},
   "outputs": [
    {
     "name": "stdout",
     "output_type": "stream",
     "text": [
      "The FWHM for the distribution is: 2\n"
     ]
    },
    {
     "data": {
      "image/png": "[encoded data removed]",
      "text/plain": [
       "<Figure size 432x288 with 1 Axes>"
      ]
     },
     "metadata": {
      "needs_background": "light"
     },
     "output_type": "display_data"
    }
   ],
   "source": [
    "ux = 0\n",
    "n = 1\n",
    "A = 1\n",
    "\n",
    "X = np.linspace(-15,15,150)\n",
    "\n",
    "P = A/(1+((X-ux)/n)**2)\n",
    "plt.plot(X,P)\n",
    "\n",
    "FWHM = 2*n\n",
    "\n",
    "print(\"The FWHM for the distribution is: {}\".format(FWHM))\n"
   ]
  },
  {
   "cell_type": "markdown",
   "id": "fb26dab0",
   "metadata": {},
   "source": [
    "## (b) Gaussian distribution"
   ]
  },
  {
   "cell_type": "code",
   "execution_count": 68,
   "id": "02d5f5e1",
   "metadata": {},
   "outputs": [
    {
     "name": "stdout",
     "output_type": "stream",
     "text": [
      "The SD that gives us 2 for FWHM is: 0.8493218002880191\n"
     ]
    },
    {
     "data": {
      "text/plain": [
       "[<matplotlib.lines.Line2D at 0x20cf0385df0>]"
      ]
     },
     "execution_count": 68,
     "metadata": {},
     "output_type": "execute_result"
    },
    {
     "data": {
      "image/png": "[encoded data removed]",
      "text/plain": [
       "<Figure size 432x288 with 1 Axes>"
      ]
     },
     "metadata": {
      "needs_background": "light"
     },
     "output_type": "display_data"
    }
   ],
   "source": [
    "# We need to find the SD that gives us sigma\n",
    "\n",
    "FWHM = 2\n",
    "\n",
    "Sigma = 2/(2*math.sqrt(2*math.log(2)))\n",
    "\n",
    "print('The SD that gives us 2 for FWHM is: {}'.format(Sigma))\n",
    "\n",
    "# plotting of gaussian; FWHM = 2 and expect. val. = 0\n",
    "\n",
    "X1 = np.linspace(-7,7,150)\n",
    "Mu = 0\n",
    "ga = (1/(Sigma*np.sqrt(2*3.14)))*np.exp(-(X1-Mu)**2 / (2*Sigma**2))\n",
    "\n",
    "plt.plot(X, ga)"
   ]
  },
  {
   "cell_type": "markdown",
   "id": "5f9f22f5",
   "metadata": {},
   "source": [
    "The Gaussian and the Cauchy distribution have similar behavior. However, we see that the y-axis is slightly different as the Gaussian results in a wider base. "
   ]
  },
  {
   "cell_type": "markdown",
   "id": "2e4d6f7e",
   "metadata": {},
   "source": [
    "## (c) $P(|x| > FWHM/2)$ for Cauchy distribution"
   ]
  },
  {
   "cell_type": "code",
   "execution_count": 69,
   "id": "ea3c5c0a",
   "metadata": {},
   "outputs": [
    {
     "name": "stdout",
     "output_type": "stream",
     "text": [
      "0.11460064472765441\n"
     ]
    }
   ],
   "source": [
    "FWHM = 2\n",
    "P_abx = np.array(np.abs(X) > FWHM/2)\n",
    "\n",
    "P_abx[0:20]\n",
    "P_abx[41:-1]\n",
    "Px = (P[0:20].sum() + P[41:-1].sum())/(len(P[0:20])+len(P[41:-1]))\n",
    "print(Px)\n"
   ]
  },
  {
   "cell_type": "markdown",
   "id": "da35a525",
   "metadata": {},
   "source": [
    "## (d) $P(|x| > FWHM/2)$ for Gaussian distribution"
   ]
  },
  {
   "cell_type": "code",
   "execution_count": 71,
   "id": "a0251d30",
   "metadata": {},
   "outputs": [
    {
     "data": {
      "text/plain": [
       "1.0001483015998864"
      ]
     },
     "execution_count": 71,
     "metadata": {},
     "output_type": "execute_result"
    }
   ],
   "source": [
    "P_abx_g = np.array(np.abs(X1) > FWHM/2)\n",
    "P_abx_g[0:20]\n",
    "\n",
    "LL_lim = X1[0]\n",
    "LU_lim = X1[20]\n",
    "\n",
    "RL_lim = X1[41]\n",
    "RU_lim = X1[-1]\n",
    "\n",
    "def integrand(X):\n",
    "    return (1/(Sigma*np.sqrt(2*3.14)))*np.exp(-(X-0)**2 / (2*Sigma**2))\n",
    "answer_l,error_l = quad(integrand,LL_lim,LU_lim)\n",
    "answer_r,error_r = quad(integrand,RL_lim,RU_lim)\n",
    "\n",
    "P_abx_g = answer_l + answer_r\n",
    "\n",
    "P_abx_g"
   ]
  },
  {
   "cell_type": "markdown",
   "id": "166eebbd",
   "metadata": {},
   "source": [
    "## (e) $P(|x| > 1.5 \\, FWHM)$ for Cauchy and Gaussian distributions"
   ]
  },
  {
   "cell_type": "code",
   "execution_count": 73,
   "id": "84158421",
   "metadata": {},
   "outputs": [
    {
     "name": "stdout",
     "output_type": "stream",
     "text": [
      "0.0950240934258153\n"
     ]
    }
   ],
   "source": [
    "FWMH = 2\n",
    "\n",
    "P_abx = np.array(np.abs(X) > FWMH*1.5)\n",
    "P_abx[0:40]\n",
    "P_abx[71:-1]\n",
    "Px = (P[0:40].sum() + P[71:-1].sum())/(len(P[0:40])+len(P[71:-1]))\n",
    "print(Px)"
   ]
  },
  {
   "cell_type": "code",
   "execution_count": 74,
   "id": "9c4251e3",
   "metadata": {},
   "outputs": [],
   "source": [
    "P_abx_g = np.array(np.abs(X1) > FWMH*1.5)\n",
    "\n",
    "LL_lim = X1[0]\n",
    "LU_lim = X1[40]\n",
    "\n",
    "RL_lim = X1[71]\n",
    "RU_lim = X1[-1]"
   ]
  },
  {
   "cell_type": "code",
   "execution_count": 75,
   "id": "9667fcb9",
   "metadata": {},
   "outputs": [
    {
     "data": {
      "text/plain": [
       "0.6509292885409801"
      ]
     },
     "execution_count": 75,
     "metadata": {},
     "output_type": "execute_result"
    }
   ],
   "source": [
    "def integrand(X):\n",
    "    return (1/(Sigma*np.sqrt(2*3.14)))*np.exp(-(X-0)**2 / (2*Sigma**2))\n",
    "answer_l,error_l = quad(integrand,LL_lim,LU_lim)\n",
    "answer_r,error_r = quad(integrand,RL_lim,RU_lim)\n",
    "\n",
    "P_abx_g = answer_l + answer_r\n",
    "\n",
    "P_abx_g"
   ]
  },
  {
   "cell_type": "markdown",
   "id": "1a1f7a01",
   "metadata": {},
   "source": [
    "## (f) Interquartile range"
   ]
  },
  {
   "cell_type": "code",
   "execution_count": 76,
   "id": "1608327c",
   "metadata": {},
   "outputs": [
    {
     "data": {
      "text/plain": [
       "0.05791511034756641"
      ]
     },
     "execution_count": 76,
     "metadata": {},
     "output_type": "execute_result"
    }
   ],
   "source": [
    "ux = 0\n",
    "n = 1\n",
    "A = 1\n",
    "\n",
    "X = np.linspace(-15,15,150)\n",
    "\n",
    "P = A/(1+((X -ux)/n)**2)\n",
    "\n",
    "Q3,Q1 = np.percentile(P,[75,25])\n",
    "IQR = Q3-Q1\n",
    "\n",
    "IQR"
   ]
  },
  {
   "cell_type": "code",
   "execution_count": 77,
   "id": "2393a12c",
   "metadata": {},
   "outputs": [
    {
     "name": "stdout",
     "output_type": "stream",
     "text": [
      "The S.D. that results as 2 for FWHM is: 0.024594282892137193\n"
     ]
    },
    {
     "data": {
      "text/plain": [
       "[<matplotlib.lines.Line2D at 0x20cefb38700>]"
      ]
     },
     "execution_count": 77,
     "metadata": {},
     "output_type": "execute_result"
    },
    {
     "data": {
      "image/png": "[encoded data removed]",
      "text/plain": [
       "<Figure size 432x288 with 1 Axes>"
      ]
     },
     "metadata": {
      "needs_background": "light"
     },
     "output_type": "display_data"
    }
   ],
   "source": [
    "Sigma = IQR/(2*math.sqrt(2*math.log(2)))\n",
    "print('The S.D. that results as 2 for FWHM is: {}'.format(Sigma))\n",
    "\n",
    "X1 = np.linspace(-7,7,150)\n",
    "Mu = 0\n",
    "ga = (1/(Sigma*np.sqrt(2*3.14)))*np.exp(-(X1-Mu)**2 / (2*Sigma**2))\n",
    "\n",
    "plt.plot(X, ga)"
   ]
  },
  {
   "cell_type": "code",
   "execution_count": 78,
   "id": "1ca63f43",
   "metadata": {},
   "outputs": [
    {
     "name": "stdout",
     "output_type": "stream",
     "text": [
      "0.10069261085045758\n"
     ]
    }
   ],
   "source": [
    "P_abx = np.array(np.abs(X) > IQR/2)\n",
    "P_abx \n",
    "P_abx[0:50]\n",
    "P_abx[51:-1]\n",
    "\n",
    "Px = (P[0:50].sum() + P[51:-1].sum())/(len(P[0:50])+len(P[51:-1]))\n",
    "print(Px)"
   ]
  },
  {
   "cell_type": "code",
   "execution_count": null,
   "id": "a65d8aa5",
   "metadata": {},
   "outputs": [],
   "source": [
    "P_abx_g = np.array(np.abs(X) > IQR/2)\n",
    "\n",
    "LL_lim = X1[0]\n",
    "LU_lim = X1[50]\n",
    "\n",
    "RL_lim = X1[51]\n",
    "RU_lim = X1[-1]\n"
   ]
  },
  {
   "cell_type": "code",
   "execution_count": 79,
   "id": "5e73b583",
   "metadata": {},
   "outputs": [
    {
     "data": {
      "text/plain": [
       "1.0002535751093535"
      ]
     },
     "execution_count": 79,
     "metadata": {},
     "output_type": "execute_result"
    }
   ],
   "source": [
    "def integrand(X):\n",
    "    return (1/(Sigma*np.sqrt(2*3.14)))*np.exp(-(X-0)**2 / (2*Sigma**2))\n",
    "answer_l,error_l = quad(integrand,LL_lim,LU_lim)\n",
    "answer_r,error_r = quad(integrand,RL_lim,RU_lim)\n",
    "\n",
    "P_abx_g = answer_l + answer_r\n",
    "\n",
    "P_abx_g"
   ]
  },
  {
   "cell_type": "code",
   "execution_count": 80,
   "id": "88d40a8f",
   "metadata": {},
   "outputs": [
    {
     "name": "stdout",
     "output_type": "stream",
     "text": [
      "0.10069261085045758\n"
     ]
    }
   ],
   "source": [
    "P_abx = np.array(np.abs(X) > IQR*1.5)\n",
    "P_abx \n",
    "P_abx[0:50]\n",
    "P_abx[51:-1]\n",
    "\n",
    "Px = (P[0:50].sum() + P[51:-1].sum())/(len(P[0:50])+len(P[51:-1]))\n",
    "print(Px)"
   ]
  },
  {
   "cell_type": "code",
   "execution_count": null,
   "id": "94d8480b",
   "metadata": {},
   "outputs": [],
   "source": [
    "P_abx_g = np.array(np.abs(X) > IQR*1.5)\n",
    "\n",
    "LL_lim = X1[0]\n",
    "LU_lim = X1[50]\n",
    "\n",
    "RL_lim = X1[51]\n",
    "RU_lim = X1[-1]"
   ]
  },
  {
   "cell_type": "code",
   "execution_count": 82,
   "id": "a6b11746",
   "metadata": {},
   "outputs": [
    {
     "data": {
      "text/plain": [
       "1.0002535751093535"
      ]
     },
     "execution_count": 82,
     "metadata": {},
     "output_type": "execute_result"
    }
   ],
   "source": [
    "def integrand(X):\n",
    "    return (1/(Sigma*np.sqrt(2*3.14)))*np.exp(-(X-0)**2 / (2*Sigma**2))\n",
    "answer_l,error_l = quad(integrand,LL_lim,LU_lim)\n",
    "answer_r,error_r = quad(integrand,RL_lim,RU_lim)\n",
    "\n",
    "P_abx_g = answer_l + answer_r\n",
    "\n",
    "P_abx_g"
   ]
  },
  {
   "cell_type": "code",
   "execution_count": null,
   "id": "d42e634f",
   "metadata": {},
   "outputs": [],
   "source": []
  }
 ],
 "metadata": {
  "kernelspec": {
   "display_name": "Python 3",
   "language": "python",
   "name": "python3"
  },
  "language_info": {
   "codemirror_mode": {
    "name": "ipython",
    "version": 3
   },
   "file_extension": ".py",
   "mimetype": "text/x-python",
   "name": "python",
   "nbconvert_exporter": "python",
   "pygments_lexer": "ipython3",
   "version": "3.8.8"
  }
 },
 "nbformat": 4,
 "nbformat_minor": 5
}
